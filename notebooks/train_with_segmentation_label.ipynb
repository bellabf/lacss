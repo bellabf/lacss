{
 "cells": [
  {
   "cell_type": "markdown",
   "metadata": {
    "id": "Kks5J-TD8-Bh"
   },
   "source": [
    "# LACSS Supervised Training Demo\n",
    "\n",
    "This notebook shows the general workflow of supervised training an LACSS model from scratch. \n",
    "\n",
    "This data uses a small dataset from the [Cell Image Library](http://www.cellimagelibrary.org/home) collection.\n",
    "\n",
    "We will go through these steps:\n",
    "\n",
    "- Setup the data pipeline\n",
    "- Initialize a model trainer\n",
    "- Perform model training\n",
    "- Visualize the results"
   ]
  },
  {
   "cell_type": "markdown",
   "metadata": {
    "id": "jp1Y6zHl9ddY"
   },
   "source": [
    "## Setting up the environment"
   ]
  },
  {
   "cell_type": "code",
   "execution_count": null,
   "metadata": {},
   "outputs": [],
   "source": [
    "!pip install \"lacss[train] @ git+https://github.com/jiyuuchc/lacss\""
   ]
  },
  {
   "cell_type": "code",
   "execution_count": null,
   "metadata": {
    "id": "-Ivh9LzC89QK",
    "tags": []
   },
   "outputs": [],
   "source": [
    "from pathlib import Path\n",
    "\n",
    "import imageio.v2 as imageio\n",
    "import matplotlib.pyplot as plt\n",
    "import numpy as np\n",
    "import pprint\n",
    "\n",
    "from lacss.utils import show_images"
   ]
  },
  {
   "cell_type": "markdown",
   "metadata": {
    "id": "lr0QliBABDOh"
   },
   "source": [
    "## Data pipeline"
   ]
  },
  {
   "cell_type": "code",
   "execution_count": null,
   "metadata": {
    "id": "Rqdox1oOccv4",
    "tags": []
   },
   "outputs": [],
   "source": [
    "# First download the dataset\n",
    "\n",
    "!wget -c https://data.mendeley.com/public-files/datasets/894mmsd9nj/files/568e524f-9a95-45a6-9f80-3619969c2a37/file_downloaded -O images.zip\n",
    "\n",
    "import zipfile\n",
    "\n",
    "data_path = Path('image_data')\n",
    "with zipfile.ZipFile('images.zip', \"r\") as f:\n",
    "    f.extractall(data_path)\n",
    "\n",
    "img = imageio.imread(data_path / 'train' / '000_img.png')\n",
    "gt = imageio.imread(data_path / 'train'/ '000_masks.png')\n",
    "\n",
    "show_images([img, gt])"
   ]
  },
  {
   "cell_type": "markdown",
   "metadata": {},
   "source": [
    "Lacss expect training data from a python generator that produces the following data:\n",
    "\n",
    "```\n",
    "x_data, y_data = (\n",
    "  {\n",
    "    \"image\": ndarray[B, W, H, C],\n",
    "    \"gt_locations\": ndarray[B, N, 2]\n",
    "  },\n",
    "  {\n",
    "    \"gt_labels\": ndarray[B, W, H]\n",
    "  }\n",
    ")\n",
    "```"
   ]
  },
  {
   "cell_type": "code",
   "execution_count": null,
   "metadata": {
    "id": "V3bSK8QDEKlM",
    "tags": []
   },
   "outputs": [],
   "source": [
    "from lacss.data import img_mask_pair_generator\n",
    "from lacss.data.utils import gf_batch, gf_cycle, image_standardization\n",
    "import lacss.data.augment_ as augment\n",
    "\n",
    "BATCHSIZE = 1\n",
    "\n",
    "@gf_batch(batch_size=BATCHSIZE)\n",
    "@gf_cycle\n",
    "def dataset_generator():\n",
    "    imgfiles = [data_path / 'train' / f'{k:03d}_img.png' for k in range(89)]\n",
    "    maskfiles = [data_path / 'train'/ f'{k:03d}_masks.png' for k in range(89)]\n",
    "\n",
    "    for data in img_mask_pair_generator(imgfiles, maskfiles):\n",
    "\n",
    "        data['image_mask'] = data['label']\n",
    "\n",
    "        # simple augmentation\n",
    "        data = augment.flip_left_right(data, p = 0.5)\n",
    "        data = augment.flip_up_down(data, p = 0.5)\n",
    "\n",
    "        # It is important to pad the locations tensor so that all elements of the dataset are of the same shape\n",
    "        locations = data['centroids']\n",
    "        n_pad = 512 - len(locations)\n",
    "        locations = np.pad(locations, [[0, n_pad], [0,0]], constant_values=-1)\n",
    "\n",
    "        yield (\n",
    "            dict(\n",
    "                image = image_standardization(data['image']),\n",
    "                gt_locations = locations, \n",
    "            ),\n",
    "            dict(\n",
    "                gt_labels = data['image_mask'],\n",
    "            ),\n",
    "        )"
   ]
  },
  {
   "cell_type": "markdown",
   "metadata": {
    "id": "GESuO6zM9tso"
   },
   "source": [
    "## Initialize a trainer\n",
    "\n",
    "The ```xtrain.Trainer``` class is the main interface we use for training. It needs a few things to start:\n",
    "\n",
    "- A model definition.\n",
    "- A optimizer from optax library\n",
    "- Definiation of losses to be trained on\n",
    "- An optional strategy specify the training backend to use. Here we used VMapped which is suitable for single GPU training on batched data."
   ]
  },
  {
   "cell_type": "code",
   "execution_count": null,
   "metadata": {
    "id": "v2mp9sJM-Tul",
    "tags": []
   },
   "outputs": [],
   "source": [
    "import optax\n",
    "from lacss.modules import Lacss\n",
    "from lacss.losses import supervised_instance_loss\n",
    "from xtrain import Trainer, VMapped\n",
    "from lacss.train.train import train_fn\n",
    "\n",
    "trainer = Trainer(\n",
    "    model = Lacss.get_small_model(),\n",
    "    optimizer = optax.adam(1e-4),\n",
    "    losses = [ # losses are either strings or a function\n",
    "        \"losses/lpn_detection_loss\", \n",
    "        \"losses/lpn_localization_loss\",\n",
    "        supervised_instance_loss,\n",
    "    ],\n",
    "    strategy=VMapped,\n",
    ")\n",
    "\n",
    "it = trainer.train(dataset_generator, method=train_fn)"
   ]
  },
  {
   "cell_type": "markdown",
   "metadata": {
    "id": "J5qcbxs5aomk"
   },
   "source": [
    "## Training"
   ]
  },
  {
   "cell_type": "code",
   "execution_count": null,
   "metadata": {
    "id": "09jrmOyjaoAs",
    "tags": []
   },
   "outputs": [],
   "source": [
    "from tqdm import tqdm\n",
    "\n",
    "n_steps = 15000\n",
    "validation_interval = 3000\n",
    "\n",
    "for step in tqdm(range(n_steps)):\n",
    "\n",
    "    if (step + 1) % validation_interval == 0:\n",
    "        print(it.loss)\n",
    "        it.reset_loss_logs()\n",
    "\n",
    "    next(it)\n"
   ]
  },
  {
   "cell_type": "markdown",
   "metadata": {
    "id": "B_tBseBbc-mw"
   },
   "source": [
    "## Visualize the model prediction"
   ]
  },
  {
   "cell_type": "code",
   "execution_count": null,
   "metadata": {
    "id": "0qOX43ZnYyX-",
    "tags": []
   },
   "outputs": [],
   "source": [
    "from lacss.data.utils import image_standardization\n",
    "from lacss.ops import patches_to_label\n",
    "from skimage.color import label2rgb\n",
    "\n",
    "image = imageio.imread(data_path/'test'/'000_img.png')\n",
    "gt_label = imageio.imread(data_path/'test'/'000_masks.png')\n",
    "\n",
    "# prediction\n",
    "model_output = trainer.model.apply(\n",
    "    dict(params = it.parameters),\n",
    "    image = image_standardization(image),\n",
    ")\n",
    "\n",
    "label = patches_to_label(\n",
    "    model_output, \n",
    "    input_size=image.shape[:2]\n",
    ")\n",
    "\n",
    "show_images([\n",
    "    image,\n",
    "    label2rgb(np.asarray(label), bg_label=0),\n",
    "    label2rgb(gt_label, bg_label=0),\n",
    "])\n",
    "titles = ['Input', \"Prediction\", \"Ground Truth\"]\n",
    "[ax.set_title(title) for ax, title in zip(plt.gcf().get_axes(), titles)]"
   ]
  },
  {
   "cell_type": "markdown",
   "metadata": {},
   "source": [
    "## What's more?\n",
    "\n",
    "- You can train for more steps\n",
    "- You can perform quantitative evaluation\n",
    "- You can incorporate validation and checkpointing into the training loop\n",
    "- You can export the trained model\n",
    "\n",
    "Check the [documentation](https://jiyuuchc.github.io/lacss/api/deploy/) for details."
   ]
  }
 ],
 "metadata": {
  "accelerator": "GPU",
  "colab": {
   "provenance": []
  },
  "gpuClass": "standard",
  "kernelspec": {
   "display_name": "Python 3",
   "language": "python",
   "name": "python3"
  },
  "language_info": {
   "codemirror_mode": {
    "name": "ipython",
    "version": 3
   },
   "file_extension": ".py",
   "mimetype": "text/x-python",
   "name": "python",
   "nbconvert_exporter": "python",
   "pygments_lexer": "ipython3",
   "version": "3.10.14"
  }
 },
 "nbformat": 4,
 "nbformat_minor": 4
}
