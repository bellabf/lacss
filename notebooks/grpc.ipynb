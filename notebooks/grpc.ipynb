{
 "cells": [
  {
   "cell_type": "markdown",
   "metadata": {},
   "source": [
    "# LACSS GRPC call Demo\n",
    "\n",
    "This is a small notebook demonstrating LACSS model inference by GRPC call to an inference server\n",
    "\n",
    "\n"
   ]
  },
  {
   "cell_type": "markdown",
   "metadata": {},
   "source": [
    "## Setting up the environment"
   ]
  },
  {
   "cell_type": "code",
   "execution_count": null,
   "metadata": {},
   "outputs": [],
   "source": [
    "!pip install git+https://github.com/jiyuuchc/lacss\n",
    "!pip install --upgrade protobuf"
   ]
  },
  {
   "cell_type": "code",
   "execution_count": null,
   "metadata": {},
   "outputs": [],
   "source": [
    "import cv2\n",
    "import imageio.v2 as imageio\n",
    "import matplotlib.pyplot as plt\n",
    "import numpy as np\n",
    "import grpc\n",
    "\n",
    "import lacss.deploy.proto as proto\n",
    "from lacss.utils import show_images\n",
    "\n",
    "SERVER = \"lacss.cam.uchc.edu\""
   ]
  },
  {
   "cell_type": "markdown",
   "metadata": {},
   "source": [
    "## Download some data for testing"
   ]
  },
  {
   "cell_type": "code",
   "execution_count": null,
   "metadata": {},
   "outputs": [],
   "source": [
    "!wget -c https://data.mendeley.com/public-files/datasets/894mmsd9nj/files/568e524f-9a95-45a6-9f80-3619969c2a37/file_downloaded -O images.zip\n",
    "\n",
    "import zipfile\n",
    "\n",
    "data_path = 'image_data'\n",
    "with zipfile.ZipFile('images.zip', \"r\") as f:\n",
    "    f.extractall(data_path)\n",
    "\n",
    "image = imageio.imread(\"image_data/test/000_img.png\")\n",
    "\n",
    "plt.imshow(image)"
   ]
  },
  {
   "cell_type": "markdown",
   "metadata": {},
   "source": [
    "## Call GRPC server"
   ]
  },
  {
   "cell_type": "code",
   "execution_count": null,
   "metadata": {},
   "outputs": [],
   "source": [
    "# construct request\n",
    "pixels = proto.Pixels(\n",
    "    bindata = proto.BinData(data=image.tobytes()),\n",
    "    size_x = image.shape[1],\n",
    "    size_y = image.shape[0],\n",
    "    size_c = image.shape[2],\n",
    "    dimension_order = \"CXYZT\",\n",
    "    dtype = \"u1\", # uint8\n",
    ")\n",
    "\n",
    "settings = proto.DetectionSettings(\n",
    "    scaling_hint = 1.0,\n",
    ")\n",
    "\n",
    "request = proto.DetectionRequest(\n",
    "    image_data = proto.ImageData(pixels=pixels),\n",
    "    detection_settings = settings,\n",
    ")\n",
    "\n",
    "# call server\n",
    "with grpc.secure_channel(target=SERVER, credentials=grpc.ssl_channel_credentials()) as channel:\n",
    "    stub = proto.LacssStub(channel)\n",
    "    response = stub.RunDetection(request)\n",
    "\n",
    "# generate label\n",
    "label = np.zeros(image.shape[:2], dtype=\"uint8\")\n",
    "\n",
    "for k, det in enumerate(response.detections):\n",
    "\n",
    "    polygon = [[p.x, p.y] for p in det.roi.polygon.points]\n",
    "    polygon = np.round(np.array(polygon)).astype(int)\n",
    "\n",
    "    cv2.fillPoly(label, [polygon], k + 1)\n",
    "\n",
    "show_images([image, label])"
   ]
  }
 ],
 "metadata": {
  "kernelspec": {
   "display_name": ".venv",
   "language": "python",
   "name": "python3"
  },
  "language_info": {
   "name": "python",
   "version": "3.10.14"
  }
 },
 "nbformat": 4,
 "nbformat_minor": 2
}
