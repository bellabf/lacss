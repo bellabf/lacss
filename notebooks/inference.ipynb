{
 "cells": [
  {
   "cell_type": "markdown",
   "metadata": {
    "id": "xPeMUSq-jrmY"
   },
   "source": [
    "# LACSS Inference Demo\n",
    "\n",
    "This is a small notebook demonstrating the workflow of applying an LACSS model to make segmentation prediction.\n",
    "\n",
    "\n"
   ]
  },
  {
   "cell_type": "markdown",
   "metadata": {
    "id": "VAsPHCLIkPzX"
   },
   "source": [
    "## Setting up the environment"
   ]
  },
  {
   "cell_type": "code",
   "execution_count": null,
   "metadata": {
    "id": "uLbgbwxti6bO",
    "tags": []
   },
   "outputs": [],
   "source": [
    "!pip install lacss\n",
    "\n",
    "import imageio.v2 as imageio\n",
    "import matplotlib.pyplot as plt\n",
    "import numpy as np\n",
    "from skimage.color import label2rgb\n",
    "\n",
    "from lacss.deploy import Predictor, model_urls\n",
    "from lacss.utils import show_images"
   ]
  },
  {
   "cell_type": "markdown",
   "metadata": {
    "id": "CB2DCgOplObO"
   },
   "source": [
    "## Load a pre-trained model"
   ]
  },
  {
   "cell_type": "code",
   "execution_count": null,
   "metadata": {
    "id": "xg0ja_TkkpOl",
    "tags": []
   },
   "outputs": [],
   "source": [
    "!wget -c {model_urls[\"default\"]} -O model_file\n",
    "\n",
    "predictor = Predictor(\"model_file\")"
   ]
  },
  {
   "cell_type": "markdown",
   "metadata": {
    "id": "mPYmZ-O9mn-x"
   },
   "source": [
    "## Also download some image data\n",
    "\n",
    "We will download some microscopy images from the [Cell Image Library](http://www.cellimagelibrary.org/home) collection."
   ]
  },
  {
   "cell_type": "code",
   "execution_count": null,
   "metadata": {
    "id": "0Hsex1ShmR_T",
    "tags": []
   },
   "outputs": [],
   "source": [
    "!wget -c https://data.mendeley.com/public-files/datasets/894mmsd9nj/files/568e524f-9a95-45a6-9f80-3619969c2a37/file_downloaded -O images.zip\n",
    "\n",
    "import zipfile\n",
    "\n",
    "data_path = 'image_data'\n",
    "with zipfile.ZipFile('images.zip', \"r\") as f:\n",
    "    f.extractall(data_path)"
   ]
  },
  {
   "cell_type": "markdown",
   "metadata": {
    "id": "7g1mb9D9nZEp"
   },
   "source": [
    "## Make a prdiction\n",
    "\n",
    "NOTE: The first time running a prediction will some time. This is because LACSS is model based on [JAX](https://jax.readthedocs.io/en/latest/) framework, which performs **just-in-time compilation** of the model the first time we run it. Rerun the cell below a second time will be much faster."
   ]
  },
  {
   "cell_type": "code",
   "execution_count": null,
   "metadata": {
    "id": "3Jt1ThPcnbAo"
   },
   "outputs": [],
   "source": [
    "image = imageio.imread(\"image_data/test/000_img.png\")\n",
    "gt = imageio.imread(\"image_data/test/000_masks.png\")\n",
    "\n",
    "label = predictor.predict(\n",
    "    image, scaling=0.6, nms_iou=0.4,\n",
    ")[\"pred_label\"]\n",
    "\n",
    "show_images([\n",
    "    image,\n",
    "    label,\n",
    "    label2rgb(gt, bg_label=0),\n",
    "])\n",
    "\n",
    "titles = ['Input', \"Prediction\", \"Ground Truth\"]\n",
    "[ax.set_title(title) for ax, title in zip(plt.gcf().get_axes(), titles)]"
   ]
  }
 ],
 "metadata": {
  "accelerator": "GPU",
  "colab": {
   "provenance": [],
   "toc_visible": true
  },
  "gpuClass": "standard",
  "kernelspec": {
   "display_name": "Python 3",
   "language": "python",
   "name": "python3"
  },
  "language_info": {
   "codemirror_mode": {
    "name": "ipython",
    "version": 3
   },
   "file_extension": ".py",
   "mimetype": "text/x-python",
   "name": "python",
   "nbconvert_exporter": "python",
   "pygments_lexer": "ipython3",
   "version": "3.10.14"
  }
 },
 "nbformat": 4,
 "nbformat_minor": 4
}
